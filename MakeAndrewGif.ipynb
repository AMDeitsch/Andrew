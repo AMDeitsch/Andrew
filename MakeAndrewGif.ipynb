{
 "cells": [
  {
   "cell_type": "code",
   "execution_count": 1,
   "id": "fe4ce6de-1106-4f73-835f-010736a5c968",
   "metadata": {
    "tags": []
   },
   "outputs": [],
   "source": [
    "from PIL import Image"
   ]
  },
  {
   "cell_type": "code",
   "execution_count": 2,
   "id": "370024fc-2644-4899-8802-4f200777b48d",
   "metadata": {
    "tags": []
   },
   "outputs": [],
   "source": [
    "import glob\n",
    "\n",
    "image_paths = glob.glob('Maps/*.png')"
   ]
  },
  {
   "cell_type": "code",
   "execution_count": 3,
   "id": "864a84bf-0a95-4ef5-84e4-6a087708e9f1",
   "metadata": {
    "tags": []
   },
   "outputs": [],
   "source": [
    "image_paths.sort()\n"
   ]
  },
  {
   "cell_type": "code",
   "execution_count": 4,
   "id": "006102b7-1e36-4381-9ad8-7bc26dc97a03",
   "metadata": {
    "tags": []
   },
   "outputs": [],
   "source": [
    "images = [Image.open(image) for image in image_paths]\n",
    "\n",
    "# Save the GIF\n",
    "images[0].save('GifDrew.gif', save_all=True, append_images=images[1:], duration=500, loop=0)\n"
   ]
  },
  {
   "cell_type": "code",
   "execution_count": null,
   "id": "e25a229f-d8c2-4a31-a832-defda05c6e3a",
   "metadata": {},
   "outputs": [],
   "source": []
  }
 ],
 "metadata": {
  "kernelspec": {
   "display_name": "Air Quality Environment",
   "language": "python",
   "name": "aq"
  },
  "language_info": {
   "codemirror_mode": {
    "name": "ipython",
    "version": 3
   },
   "file_extension": ".py",
   "mimetype": "text/x-python",
   "name": "python",
   "nbconvert_exporter": "python",
   "pygments_lexer": "ipython3",
   "version": "3.12.1"
  }
 },
 "nbformat": 4,
 "nbformat_minor": 5
}
